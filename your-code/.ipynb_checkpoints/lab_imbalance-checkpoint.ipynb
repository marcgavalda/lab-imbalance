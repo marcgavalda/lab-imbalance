{
 "cells": [
  {
   "cell_type": "markdown",
   "metadata": {},
   "source": [
    "# Inbalanced Classes\n",
    "## In this lab, we are going to explore a case of imbalanced classes. \n",
    "\n",
    "\n",
    "Like we disussed in class, when we have noisy data, if we are not careful, we can end up fitting our model to the noise in the data and not the 'signal'-- the factors that actually determine the outcome. This is called overfitting, and results in good results in training, and in bad results when the model is applied to real data. Similarly, we could have a model that is too simplistic to accurately model the signal. This produces a model that doesnt work well (ever). \n"
   ]
  },
  {
   "cell_type": "markdown",
   "metadata": {},
   "source": [
    "### Note: before doing the first commit, make sure you don't include the large csv file, either by adding it to .gitignore, or by deleting it."
   ]
  },
  {
   "cell_type": "markdown",
   "metadata": {},
   "source": [
    "### First, download the data from: https://www.kaggle.com/ealaxi/paysim1 . Import the dataset and provide some discriptive statistics and plots. What do you think will be the important features in determining the outcome?\n",
    "### Note: don't use the entire dataset, use a sample instead, with n=100000 elements, so your computer doesn't freeze."
   ]
  },
  {
   "cell_type": "code",
   "execution_count": 31,
   "metadata": {},
   "outputs": [],
   "source": [
    "# We import relevant libraries\n",
    "import pandas as pd\n",
    "import numpy as np\n",
    "import matplotlib.pyplot as plt\n",
    "import seaborn as sns"
   ]
  },
  {
   "cell_type": "markdown",
   "metadata": {},
   "source": [
    "### What is the distribution of the outcome? "
   ]
  },
  {
   "cell_type": "code",
   "execution_count": 32,
   "metadata": {},
   "outputs": [],
   "source": [
    "# We import dataset\n",
    "payments = pd.read_csv('C:/Users/magavald/Desktop/data.csv')\n",
    "payments = payments.sample(100000, random_state=1)"
   ]
  },
  {
   "cell_type": "code",
   "execution_count": 33,
   "metadata": {},
   "outputs": [
    {
     "data": {
      "text/html": [
       "<div>\n",
       "<style scoped>\n",
       "    .dataframe tbody tr th:only-of-type {\n",
       "        vertical-align: middle;\n",
       "    }\n",
       "\n",
       "    .dataframe tbody tr th {\n",
       "        vertical-align: top;\n",
       "    }\n",
       "\n",
       "    .dataframe thead th {\n",
       "        text-align: right;\n",
       "    }\n",
       "</style>\n",
       "<table border=\"1\" class=\"dataframe\">\n",
       "  <thead>\n",
       "    <tr style=\"text-align: right;\">\n",
       "      <th></th>\n",
       "      <th>step</th>\n",
       "      <th>type</th>\n",
       "      <th>amount</th>\n",
       "      <th>nameOrig</th>\n",
       "      <th>oldbalanceOrg</th>\n",
       "      <th>newbalanceOrig</th>\n",
       "      <th>nameDest</th>\n",
       "      <th>oldbalanceDest</th>\n",
       "      <th>newbalanceDest</th>\n",
       "      <th>isFraud</th>\n",
       "      <th>isFlaggedFraud</th>\n",
       "    </tr>\n",
       "  </thead>\n",
       "  <tbody>\n",
       "    <tr>\n",
       "      <th>6322570</th>\n",
       "      <td>688</td>\n",
       "      <td>CASH_IN</td>\n",
       "      <td>23557.12</td>\n",
       "      <td>C867750533</td>\n",
       "      <td>8059.00</td>\n",
       "      <td>31616.12</td>\n",
       "      <td>C1026934669</td>\n",
       "      <td>169508.66</td>\n",
       "      <td>145951.53</td>\n",
       "      <td>0</td>\n",
       "      <td>0</td>\n",
       "    </tr>\n",
       "    <tr>\n",
       "      <th>3621196</th>\n",
       "      <td>274</td>\n",
       "      <td>PAYMENT</td>\n",
       "      <td>6236.13</td>\n",
       "      <td>C601099070</td>\n",
       "      <td>0.00</td>\n",
       "      <td>0.00</td>\n",
       "      <td>M701283411</td>\n",
       "      <td>0.00</td>\n",
       "      <td>0.00</td>\n",
       "      <td>0</td>\n",
       "      <td>0</td>\n",
       "    </tr>\n",
       "    <tr>\n",
       "      <th>1226256</th>\n",
       "      <td>133</td>\n",
       "      <td>PAYMENT</td>\n",
       "      <td>33981.87</td>\n",
       "      <td>C279540931</td>\n",
       "      <td>18745.72</td>\n",
       "      <td>0.00</td>\n",
       "      <td>M577905776</td>\n",
       "      <td>0.00</td>\n",
       "      <td>0.00</td>\n",
       "      <td>0</td>\n",
       "      <td>0</td>\n",
       "    </tr>\n",
       "    <tr>\n",
       "      <th>2803274</th>\n",
       "      <td>225</td>\n",
       "      <td>CASH_OUT</td>\n",
       "      <td>263006.42</td>\n",
       "      <td>C11675531</td>\n",
       "      <td>20072.00</td>\n",
       "      <td>0.00</td>\n",
       "      <td>C529577791</td>\n",
       "      <td>390253.56</td>\n",
       "      <td>653259.98</td>\n",
       "      <td>0</td>\n",
       "      <td>0</td>\n",
       "    </tr>\n",
       "    <tr>\n",
       "      <th>3201247</th>\n",
       "      <td>249</td>\n",
       "      <td>CASH_OUT</td>\n",
       "      <td>152013.74</td>\n",
       "      <td>C530649214</td>\n",
       "      <td>20765.00</td>\n",
       "      <td>0.00</td>\n",
       "      <td>C1304175579</td>\n",
       "      <td>252719.19</td>\n",
       "      <td>404732.93</td>\n",
       "      <td>0</td>\n",
       "      <td>0</td>\n",
       "    </tr>\n",
       "  </tbody>\n",
       "</table>\n",
       "</div>"
      ],
      "text/plain": [
       "         step      type     amount    nameOrig  oldbalanceOrg  newbalanceOrig  \\\n",
       "6322570   688   CASH_IN   23557.12  C867750533        8059.00        31616.12   \n",
       "3621196   274   PAYMENT    6236.13  C601099070           0.00            0.00   \n",
       "1226256   133   PAYMENT   33981.87  C279540931       18745.72            0.00   \n",
       "2803274   225  CASH_OUT  263006.42   C11675531       20072.00            0.00   \n",
       "3201247   249  CASH_OUT  152013.74  C530649214       20765.00            0.00   \n",
       "\n",
       "            nameDest  oldbalanceDest  newbalanceDest  isFraud  isFlaggedFraud  \n",
       "6322570  C1026934669       169508.66       145951.53        0               0  \n",
       "3621196   M701283411            0.00            0.00        0               0  \n",
       "1226256   M577905776            0.00            0.00        0               0  \n",
       "2803274   C529577791       390253.56       653259.98        0               0  \n",
       "3201247  C1304175579       252719.19       404732.93        0               0  "
      ]
     },
     "execution_count": 33,
     "metadata": {},
     "output_type": "execute_result"
    }
   ],
   "source": [
    "#We make a first observation of the dataset. We aim to predict whether a transaction is fraud or not (isFraud column)\n",
    "payments.head()"
   ]
  },
  {
   "cell_type": "code",
   "execution_count": 34,
   "metadata": {},
   "outputs": [
    {
     "data": {
      "text/plain": [
       "0    99876\n",
       "1      124\n",
       "Name: isFraud, dtype: int64"
      ]
     },
     "execution_count": 34,
     "metadata": {},
     "output_type": "execute_result"
    }
   ],
   "source": [
    "#This is an imbalanced dataset as only 0.12% of instances are fraud\n",
    "payments['isFraud'].value_counts()"
   ]
  },
  {
   "cell_type": "code",
   "execution_count": 35,
   "metadata": {},
   "outputs": [
    {
     "data": {
      "text/plain": [
       "step                int64\n",
       "type               object\n",
       "amount            float64\n",
       "nameOrig           object\n",
       "oldbalanceOrg     float64\n",
       "newbalanceOrig    float64\n",
       "nameDest           object\n",
       "oldbalanceDest    float64\n",
       "newbalanceDest    float64\n",
       "isFraud             int64\n",
       "isFlaggedFraud      int64\n",
       "dtype: object"
      ]
     },
     "execution_count": 35,
     "metadata": {},
     "output_type": "execute_result"
    }
   ],
   "source": [
    "#We observe the datatypes\n",
    "payments.dtypes"
   ]
  },
  {
   "cell_type": "markdown",
   "metadata": {},
   "source": [
    "### Clean the dataset. How are you going to integrate the time variable? Do you think the step (integer) coding in which it is given is appropriate?"
   ]
  },
  {
   "cell_type": "code",
   "execution_count": 36,
   "metadata": {},
   "outputs": [
    {
     "data": {
      "text/plain": [
       "CASH_OUT    64\n",
       "TRANSFER    60\n",
       "Name: type, dtype: int64"
      ]
     },
     "execution_count": 36,
     "metadata": {},
     "output_type": "execute_result"
    }
   ],
   "source": [
    "#The first clean-up we can do is define which types of transfers are potentially frauduent: TRANSFER and CASH_OUT\n",
    "payments[payments['isFraud']==1]['type'].value_counts()"
   ]
  },
  {
   "cell_type": "code",
   "execution_count": 37,
   "metadata": {},
   "outputs": [
    {
     "name": "stdout",
     "output_type": "stream",
     "text": [
      "(43625, 11)\n"
     ]
    },
    {
     "data": {
      "text/html": [
       "<div>\n",
       "<style scoped>\n",
       "    .dataframe tbody tr th:only-of-type {\n",
       "        vertical-align: middle;\n",
       "    }\n",
       "\n",
       "    .dataframe tbody tr th {\n",
       "        vertical-align: top;\n",
       "    }\n",
       "\n",
       "    .dataframe thead th {\n",
       "        text-align: right;\n",
       "    }\n",
       "</style>\n",
       "<table border=\"1\" class=\"dataframe\">\n",
       "  <thead>\n",
       "    <tr style=\"text-align: right;\">\n",
       "      <th></th>\n",
       "      <th>step</th>\n",
       "      <th>type</th>\n",
       "      <th>amount</th>\n",
       "      <th>nameOrig</th>\n",
       "      <th>oldbalanceOrg</th>\n",
       "      <th>newbalanceOrig</th>\n",
       "      <th>nameDest</th>\n",
       "      <th>oldbalanceDest</th>\n",
       "      <th>newbalanceDest</th>\n",
       "      <th>isFraud</th>\n",
       "      <th>isFlaggedFraud</th>\n",
       "    </tr>\n",
       "  </thead>\n",
       "  <tbody>\n",
       "    <tr>\n",
       "      <th>2803274</th>\n",
       "      <td>225</td>\n",
       "      <td>CASH_OUT</td>\n",
       "      <td>263006.42</td>\n",
       "      <td>C11675531</td>\n",
       "      <td>20072.0</td>\n",
       "      <td>0.0</td>\n",
       "      <td>C529577791</td>\n",
       "      <td>390253.56</td>\n",
       "      <td>653259.98</td>\n",
       "      <td>0</td>\n",
       "      <td>0</td>\n",
       "    </tr>\n",
       "    <tr>\n",
       "      <th>3201247</th>\n",
       "      <td>249</td>\n",
       "      <td>CASH_OUT</td>\n",
       "      <td>152013.74</td>\n",
       "      <td>C530649214</td>\n",
       "      <td>20765.0</td>\n",
       "      <td>0.0</td>\n",
       "      <td>C1304175579</td>\n",
       "      <td>252719.19</td>\n",
       "      <td>404732.93</td>\n",
       "      <td>0</td>\n",
       "      <td>0</td>\n",
       "    </tr>\n",
       "    <tr>\n",
       "      <th>1351584</th>\n",
       "      <td>137</td>\n",
       "      <td>CASH_OUT</td>\n",
       "      <td>336874.19</td>\n",
       "      <td>C1430396546</td>\n",
       "      <td>201316.0</td>\n",
       "      <td>0.0</td>\n",
       "      <td>C1687236810</td>\n",
       "      <td>20820.92</td>\n",
       "      <td>357695.11</td>\n",
       "      <td>0</td>\n",
       "      <td>0</td>\n",
       "    </tr>\n",
       "    <tr>\n",
       "      <th>5422829</th>\n",
       "      <td>378</td>\n",
       "      <td>CASH_OUT</td>\n",
       "      <td>520230.74</td>\n",
       "      <td>C1815050914</td>\n",
       "      <td>0.0</td>\n",
       "      <td>0.0</td>\n",
       "      <td>C1640500532</td>\n",
       "      <td>540059.79</td>\n",
       "      <td>1060290.53</td>\n",
       "      <td>0</td>\n",
       "      <td>0</td>\n",
       "    </tr>\n",
       "    <tr>\n",
       "      <th>2400263</th>\n",
       "      <td>202</td>\n",
       "      <td>TRANSFER</td>\n",
       "      <td>735977.55</td>\n",
       "      <td>C1864759705</td>\n",
       "      <td>8900.0</td>\n",
       "      <td>0.0</td>\n",
       "      <td>C2022704650</td>\n",
       "      <td>0.00</td>\n",
       "      <td>735977.55</td>\n",
       "      <td>0</td>\n",
       "      <td>0</td>\n",
       "    </tr>\n",
       "  </tbody>\n",
       "</table>\n",
       "</div>"
      ],
      "text/plain": [
       "         step      type     amount     nameOrig  oldbalanceOrg  \\\n",
       "2803274   225  CASH_OUT  263006.42    C11675531        20072.0   \n",
       "3201247   249  CASH_OUT  152013.74   C530649214        20765.0   \n",
       "1351584   137  CASH_OUT  336874.19  C1430396546       201316.0   \n",
       "5422829   378  CASH_OUT  520230.74  C1815050914            0.0   \n",
       "2400263   202  TRANSFER  735977.55  C1864759705         8900.0   \n",
       "\n",
       "         newbalanceOrig     nameDest  oldbalanceDest  newbalanceDest  isFraud  \\\n",
       "2803274             0.0   C529577791       390253.56       653259.98        0   \n",
       "3201247             0.0  C1304175579       252719.19       404732.93        0   \n",
       "1351584             0.0  C1687236810        20820.92       357695.11        0   \n",
       "5422829             0.0  C1640500532       540059.79      1060290.53        0   \n",
       "2400263             0.0  C2022704650            0.00       735977.55        0   \n",
       "\n",
       "         isFlaggedFraud  \n",
       "2803274               0  \n",
       "3201247               0  \n",
       "1351584               0  \n",
       "5422829               0  \n",
       "2400263               0  "
      ]
     },
     "execution_count": 37,
     "metadata": {},
     "output_type": "execute_result"
    }
   ],
   "source": [
    "#We clean-up the dataset accordingly. The dataset is now 56.3% smaller\n",
    "payments = payments[payments['type'].isin(['CASH_OUT','TRANSFER'])]\n",
    "print(payments.shape)\n",
    "payments.head()"
   ]
  },
  {
   "cell_type": "code",
   "execution_count": 38,
   "metadata": {},
   "outputs": [],
   "source": [
    "#We remove unnecessary columns \n",
    "payments.drop(columns=['isFlaggedFraud'],inplace=True)"
   ]
  },
  {
   "cell_type": "code",
   "execution_count": 39,
   "metadata": {},
   "outputs": [
    {
     "data": {
      "text/html": [
       "<div>\n",
       "<style scoped>\n",
       "    .dataframe tbody tr th:only-of-type {\n",
       "        vertical-align: middle;\n",
       "    }\n",
       "\n",
       "    .dataframe tbody tr th {\n",
       "        vertical-align: top;\n",
       "    }\n",
       "\n",
       "    .dataframe thead th {\n",
       "        text-align: right;\n",
       "    }\n",
       "</style>\n",
       "<table border=\"1\" class=\"dataframe\">\n",
       "  <thead>\n",
       "    <tr style=\"text-align: right;\">\n",
       "      <th></th>\n",
       "      <th>step</th>\n",
       "      <th>amount</th>\n",
       "      <th>nameOrig</th>\n",
       "      <th>oldbalanceOrg</th>\n",
       "      <th>newbalanceOrig</th>\n",
       "      <th>nameDest</th>\n",
       "      <th>oldbalanceDest</th>\n",
       "      <th>newbalanceDest</th>\n",
       "      <th>isFraud</th>\n",
       "      <th>CASH_OUT</th>\n",
       "      <th>TRANSFER</th>\n",
       "    </tr>\n",
       "  </thead>\n",
       "  <tbody>\n",
       "    <tr>\n",
       "      <th>2803274</th>\n",
       "      <td>225</td>\n",
       "      <td>263006.42</td>\n",
       "      <td>C11675531</td>\n",
       "      <td>20072.0</td>\n",
       "      <td>0.0</td>\n",
       "      <td>C529577791</td>\n",
       "      <td>390253.56</td>\n",
       "      <td>653259.98</td>\n",
       "      <td>0</td>\n",
       "      <td>1</td>\n",
       "      <td>0</td>\n",
       "    </tr>\n",
       "    <tr>\n",
       "      <th>3201247</th>\n",
       "      <td>249</td>\n",
       "      <td>152013.74</td>\n",
       "      <td>C530649214</td>\n",
       "      <td>20765.0</td>\n",
       "      <td>0.0</td>\n",
       "      <td>C1304175579</td>\n",
       "      <td>252719.19</td>\n",
       "      <td>404732.93</td>\n",
       "      <td>0</td>\n",
       "      <td>1</td>\n",
       "      <td>0</td>\n",
       "    </tr>\n",
       "    <tr>\n",
       "      <th>1351584</th>\n",
       "      <td>137</td>\n",
       "      <td>336874.19</td>\n",
       "      <td>C1430396546</td>\n",
       "      <td>201316.0</td>\n",
       "      <td>0.0</td>\n",
       "      <td>C1687236810</td>\n",
       "      <td>20820.92</td>\n",
       "      <td>357695.11</td>\n",
       "      <td>0</td>\n",
       "      <td>1</td>\n",
       "      <td>0</td>\n",
       "    </tr>\n",
       "    <tr>\n",
       "      <th>5422829</th>\n",
       "      <td>378</td>\n",
       "      <td>520230.74</td>\n",
       "      <td>C1815050914</td>\n",
       "      <td>0.0</td>\n",
       "      <td>0.0</td>\n",
       "      <td>C1640500532</td>\n",
       "      <td>540059.79</td>\n",
       "      <td>1060290.53</td>\n",
       "      <td>0</td>\n",
       "      <td>1</td>\n",
       "      <td>0</td>\n",
       "    </tr>\n",
       "    <tr>\n",
       "      <th>2400263</th>\n",
       "      <td>202</td>\n",
       "      <td>735977.55</td>\n",
       "      <td>C1864759705</td>\n",
       "      <td>8900.0</td>\n",
       "      <td>0.0</td>\n",
       "      <td>C2022704650</td>\n",
       "      <td>0.00</td>\n",
       "      <td>735977.55</td>\n",
       "      <td>0</td>\n",
       "      <td>0</td>\n",
       "      <td>1</td>\n",
       "    </tr>\n",
       "  </tbody>\n",
       "</table>\n",
       "</div>"
      ],
      "text/plain": [
       "         step     amount     nameOrig  oldbalanceOrg  newbalanceOrig  \\\n",
       "2803274   225  263006.42    C11675531        20072.0             0.0   \n",
       "3201247   249  152013.74   C530649214        20765.0             0.0   \n",
       "1351584   137  336874.19  C1430396546       201316.0             0.0   \n",
       "5422829   378  520230.74  C1815050914            0.0             0.0   \n",
       "2400263   202  735977.55  C1864759705         8900.0             0.0   \n",
       "\n",
       "            nameDest  oldbalanceDest  newbalanceDest  isFraud  CASH_OUT  \\\n",
       "2803274   C529577791       390253.56       653259.98        0         1   \n",
       "3201247  C1304175579       252719.19       404732.93        0         1   \n",
       "1351584  C1687236810        20820.92       357695.11        0         1   \n",
       "5422829  C1640500532       540059.79      1060290.53        0         1   \n",
       "2400263  C2022704650            0.00       735977.55        0         0   \n",
       "\n",
       "         TRANSFER  \n",
       "2803274         0  \n",
       "3201247         0  \n",
       "1351584         0  \n",
       "5422829         0  \n",
       "2400263         1  "
      ]
     },
     "execution_count": 39,
     "metadata": {},
     "output_type": "execute_result"
    }
   ],
   "source": [
    "#We dummify the payment type\n",
    "payment_type_dummy = pd.get_dummies(payments['type'])\n",
    "payments_dummy = payments.join(payment_type_dummy).drop(columns=['type'])\n",
    "payments_dummy.head()"
   ]
  },
  {
   "cell_type": "code",
   "execution_count": 40,
   "metadata": {},
   "outputs": [],
   "source": [
    "# We see that 'nameOrig' and 'nameDest' either start with a letter\n",
    "payments_dummy['nameOrig'] = payments_dummy['nameOrig'].str[0]\n",
    "payments_dummy['nameDest'] = payments_dummy['nameDest'].str[0]"
   ]
  },
  {
   "cell_type": "code",
   "execution_count": 41,
   "metadata": {},
   "outputs": [
    {
     "name": "stdout",
     "output_type": "stream",
     "text": [
      "C    43625\n",
      "Name: nameOrig, dtype: int64\n",
      "C    43625\n",
      "Name: nameDest, dtype: int64\n"
     ]
    }
   ],
   "source": [
    "#In both cases it's only 'C', so we can remove these columns\n",
    "print(payments_dummy['nameOrig'].value_counts())\n",
    "print(payments_dummy['nameDest'].value_counts())"
   ]
  },
  {
   "cell_type": "code",
   "execution_count": 42,
   "metadata": {},
   "outputs": [],
   "source": [
    "payments_dummy.drop(columns=['nameOrig','nameDest','TRANSFER'], inplace=True)"
   ]
  },
  {
   "cell_type": "code",
   "execution_count": 43,
   "metadata": {},
   "outputs": [
    {
     "data": {
      "text/html": [
       "<div>\n",
       "<style scoped>\n",
       "    .dataframe tbody tr th:only-of-type {\n",
       "        vertical-align: middle;\n",
       "    }\n",
       "\n",
       "    .dataframe tbody tr th {\n",
       "        vertical-align: top;\n",
       "    }\n",
       "\n",
       "    .dataframe thead th {\n",
       "        text-align: right;\n",
       "    }\n",
       "</style>\n",
       "<table border=\"1\" class=\"dataframe\">\n",
       "  <thead>\n",
       "    <tr style=\"text-align: right;\">\n",
       "      <th></th>\n",
       "      <th>step</th>\n",
       "      <th>amount</th>\n",
       "      <th>oldbalanceOrg</th>\n",
       "      <th>newbalanceOrig</th>\n",
       "      <th>oldbalanceDest</th>\n",
       "      <th>newbalanceDest</th>\n",
       "      <th>isFraud</th>\n",
       "      <th>CASH_OUT</th>\n",
       "    </tr>\n",
       "  </thead>\n",
       "  <tbody>\n",
       "    <tr>\n",
       "      <th>2803274</th>\n",
       "      <td>225</td>\n",
       "      <td>263006.42</td>\n",
       "      <td>20072.0</td>\n",
       "      <td>0.0</td>\n",
       "      <td>390253.56</td>\n",
       "      <td>653259.98</td>\n",
       "      <td>0</td>\n",
       "      <td>1</td>\n",
       "    </tr>\n",
       "    <tr>\n",
       "      <th>3201247</th>\n",
       "      <td>249</td>\n",
       "      <td>152013.74</td>\n",
       "      <td>20765.0</td>\n",
       "      <td>0.0</td>\n",
       "      <td>252719.19</td>\n",
       "      <td>404732.93</td>\n",
       "      <td>0</td>\n",
       "      <td>1</td>\n",
       "    </tr>\n",
       "    <tr>\n",
       "      <th>1351584</th>\n",
       "      <td>137</td>\n",
       "      <td>336874.19</td>\n",
       "      <td>201316.0</td>\n",
       "      <td>0.0</td>\n",
       "      <td>20820.92</td>\n",
       "      <td>357695.11</td>\n",
       "      <td>0</td>\n",
       "      <td>1</td>\n",
       "    </tr>\n",
       "    <tr>\n",
       "      <th>5422829</th>\n",
       "      <td>378</td>\n",
       "      <td>520230.74</td>\n",
       "      <td>0.0</td>\n",
       "      <td>0.0</td>\n",
       "      <td>540059.79</td>\n",
       "      <td>1060290.53</td>\n",
       "      <td>0</td>\n",
       "      <td>1</td>\n",
       "    </tr>\n",
       "    <tr>\n",
       "      <th>2400263</th>\n",
       "      <td>202</td>\n",
       "      <td>735977.55</td>\n",
       "      <td>8900.0</td>\n",
       "      <td>0.0</td>\n",
       "      <td>0.00</td>\n",
       "      <td>735977.55</td>\n",
       "      <td>0</td>\n",
       "      <td>0</td>\n",
       "    </tr>\n",
       "  </tbody>\n",
       "</table>\n",
       "</div>"
      ],
      "text/plain": [
       "         step     amount  oldbalanceOrg  newbalanceOrig  oldbalanceDest  \\\n",
       "2803274   225  263006.42        20072.0             0.0       390253.56   \n",
       "3201247   249  152013.74        20765.0             0.0       252719.19   \n",
       "1351584   137  336874.19       201316.0             0.0        20820.92   \n",
       "5422829   378  520230.74            0.0             0.0       540059.79   \n",
       "2400263   202  735977.55         8900.0             0.0            0.00   \n",
       "\n",
       "         newbalanceDest  isFraud  CASH_OUT  \n",
       "2803274       653259.98        0         1  \n",
       "3201247       404732.93        0         1  \n",
       "1351584       357695.11        0         1  \n",
       "5422829      1060290.53        0         1  \n",
       "2400263       735977.55        0         0  "
      ]
     },
     "execution_count": 43,
     "metadata": {},
     "output_type": "execute_result"
    }
   ],
   "source": [
    "payments_dummy.head()"
   ]
  },
  {
   "cell_type": "markdown",
   "metadata": {},
   "source": [
    "### Run a logisitc regression classifier and evaluate its accuracy."
   ]
  },
  {
   "cell_type": "code",
   "execution_count": 44,
   "metadata": {},
   "outputs": [],
   "source": [
    "# Import \n",
    "from sklearn.linear_model import LogisticRegression\n",
    "from sklearn.preprocessing import StandardScaler\n",
    "from sklearn.model_selection import train_test_split\n",
    "from sklearn.metrics import confusion_matrix, accuracy_score, precision_score, recall_score"
   ]
  },
  {
   "cell_type": "code",
   "execution_count": 45,
   "metadata": {},
   "outputs": [],
   "source": [
    "#Train test split\n",
    "X_train, X_test, y_train, y_test = train_test_split(payments_dummy.drop(columns=['isFraud'])\n",
    "                                                                        , payments_dummy['isFraud']\n",
    "                                                                        , random_state=0\n",
    "                                                                        , test_size =0.2)"
   ]
  },
  {
   "cell_type": "code",
   "execution_count": 46,
   "metadata": {},
   "outputs": [
    {
     "data": {
      "text/plain": [
       "0    8694\n",
       "1      31\n",
       "Name: isFraud, dtype: int64"
      ]
     },
     "execution_count": 46,
     "metadata": {},
     "output_type": "execute_result"
    }
   ],
   "source": [
    "y_test.value_counts()"
   ]
  },
  {
   "cell_type": "code",
   "execution_count": 47,
   "metadata": {},
   "outputs": [
    {
     "name": "stdout",
     "output_type": "stream",
     "text": [
      "Accuracy is 0.9981661891117478 however, its not a good way to assess performance as a very low % of transactions are fraud\n"
     ]
    }
   ],
   "source": [
    "#Import the model and fit it to trainning data\n",
    "model = LogisticRegression(max_iter=1000)\n",
    "model = model.fit(X_train, y_train)\n",
    "print('Accuracy is',model.score(X_test, y_test),'however, its not a good way to assess performance as a very low % of transactions are fraud')"
   ]
  },
  {
   "cell_type": "code",
   "execution_count": 48,
   "metadata": {},
   "outputs": [
    {
     "name": "stdout",
     "output_type": "stream",
     "text": [
      "Precision is 0.8571428571428571\n",
      "Recall is 0.5806451612903226\n"
     ]
    }
   ],
   "source": [
    "y_pred_logistic = model.predict(X_test)\n",
    "print('Precision is', precision_score(y_test,y_pred_logistic))\n",
    "print('Recall is',recall_score(y_test,y_pred_logistic))"
   ]
  },
  {
   "cell_type": "markdown",
   "metadata": {},
   "source": [
    "### Now pick a model of your choice and evaluate its accuracy."
   ]
  },
  {
   "cell_type": "code",
   "execution_count": 49,
   "metadata": {},
   "outputs": [
    {
     "data": {
      "text/plain": [
       "0.9985100286532951"
      ]
     },
     "execution_count": 49,
     "metadata": {},
     "output_type": "execute_result"
    }
   ],
   "source": [
    "# Your code here\n",
    "import xgboost\n",
    "\n",
    "model = xgboost.XGBClassifier()\n",
    "model = model.fit(X_train, y_train)\n",
    "y_pred_xgboost = model.predict(X_test)\n",
    "model.score(X_test,y_test)"
   ]
  },
  {
   "cell_type": "code",
   "execution_count": 50,
   "metadata": {},
   "outputs": [
    {
     "name": "stdout",
     "output_type": "stream",
     "text": [
      "Precision is 1.0\n",
      "Recall is 0.5806451612903226\n"
     ]
    }
   ],
   "source": [
    "print('Precision is', precision_score(y_test,y_pred_xgboost))\n",
    "print('Recall is',recall_score(y_test,y_pred_xgboost))"
   ]
  },
  {
   "cell_type": "markdown",
   "metadata": {},
   "source": [
    "### Which model worked better and how do you know?"
   ]
  },
  {
   "cell_type": "code",
   "execution_count": 54,
   "metadata": {},
   "outputs": [
    {
     "data": {
      "text/plain": [
       "\"I've chosen XGBoost, which has improved Precision from 85.7% to 100%. However, here we are more interested in improving Recall\""
      ]
     },
     "execution_count": 54,
     "metadata": {},
     "output_type": "execute_result"
    }
   ],
   "source": [
    "# Your response here\n",
    "'''I've chosen XGBoost, which has improved Precision from 85.7% to 100%. However, here we are more interested in improving Recall'''"
   ]
  },
  {
   "cell_type": "code",
   "execution_count": 91,
   "metadata": {},
   "outputs": [],
   "source": [
    "from imblearn.over_sampling import SMOTE\n",
    "sm = SMOTE(random_state = 1,sampling_strategy=0.1)"
   ]
  },
  {
   "cell_type": "code",
   "execution_count": 95,
   "metadata": {},
   "outputs": [],
   "source": [
    "X_train_SMOTE,y_train_SMOTE = sm.fit_resample(X_train,y_train)"
   ]
  },
  {
   "cell_type": "code",
   "execution_count": 106,
   "metadata": {},
   "outputs": [
    {
     "data": {
      "text/plain": [
       "0.9980515759312321"
      ]
     },
     "execution_count": 106,
     "metadata": {},
     "output_type": "execute_result"
    }
   ],
   "source": [
    "model = xgboost.XGBClassifier(max_depth=5)\n",
    "model = model.fit(X_train_SMOTE, y_train_SMOTE)\n",
    "y_pred_xgboost_smote = model.predict(X_test)\n",
    "model.score(X_test,y_test)"
   ]
  },
  {
   "cell_type": "code",
   "execution_count": 107,
   "metadata": {},
   "outputs": [
    {
     "name": "stdout",
     "output_type": "stream",
     "text": [
      "Precision is 0.7333333333333333\n",
      "Recall is 0.7096774193548387\n"
     ]
    }
   ],
   "source": [
    "print('Precision is', precision_score(y_test,y_pred_xgboost_smote))\n",
    "print('Recall is',recall_score(y_test,y_pred_xgboost_smote))"
   ]
  },
  {
   "cell_type": "code",
   "execution_count": 109,
   "metadata": {},
   "outputs": [
    {
     "data": {
      "text/plain": [
       "'Now, we increase Recall to from 58.1% to 71.0%, which is preferable even if this comes at the cost of reducing Precision'"
      ]
     },
     "execution_count": 109,
     "metadata": {},
     "output_type": "execute_result"
    }
   ],
   "source": [
    "'''Now, we increase Recall to from 58.1% to 71.0%, which is preferable even if this comes at the cost of reducing Precision'''"
   ]
  },
  {
   "cell_type": "markdown",
   "metadata": {},
   "source": [
    "### Note: before doing the first commit, make sure you don't include the large csv file, either by adding it to .gitignore, or by deleting it."
   ]
  }
 ],
 "metadata": {
  "kernelspec": {
   "display_name": "Python 3 (ipykernel)",
   "language": "python",
   "name": "python3"
  },
  "language_info": {
   "codemirror_mode": {
    "name": "ipython",
    "version": 3
   },
   "file_extension": ".py",
   "mimetype": "text/x-python",
   "name": "python",
   "nbconvert_exporter": "python",
   "pygments_lexer": "ipython3",
   "version": "3.9.12"
  }
 },
 "nbformat": 4,
 "nbformat_minor": 2
}
